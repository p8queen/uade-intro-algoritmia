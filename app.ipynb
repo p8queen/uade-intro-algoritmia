{
 "cells": [
  {
   "cell_type": "code",
   "execution_count": 6,
   "metadata": {},
   "outputs": [
    {
     "name": "stdout",
     "output_type": "stream",
     "text": [
      "False\n",
      "True\n"
     ]
    }
   ],
   "source": [
    "def esAnioBisiesto(anio):\n",
    "    if anio % 4 == 0:\n",
    "        if anio % 100 == 0:\n",
    "            if anio % 400 == 0:\n",
    "                return True\n",
    "            else:\n",
    "                return False\n",
    "        else:\n",
    "            return True\n",
    "    else:\n",
    "        return False\n",
    "\n",
    "def esDiaValido(mes, dia, anio):\n",
    "    if mes in [1, 3, 5, 7, 8, 10, 12]:\n",
    "        if dia > 0 and dia <= 31:\n",
    "            return True\n",
    "    elif mes in [4, 6, 9, 11]:\n",
    "        if dia > 0 and dia <= 30:\n",
    "            return True\n",
    "    elif mes == 2:\n",
    "        if esAnioBisiesto(anio) and dia > 0 and dia <= 29:\n",
    "            return True\n",
    "        elif not esAnioBisiesto(anio) and dia > 0 and dia <= 28:\n",
    "            return True\n",
    "    return False\n",
    "\n",
    "def cantidadDiasDelMes(mes, anio):\n",
    "    if mes in [1, 3, 5, 7, 8, 10, 12]:\n",
    "        return 31\n",
    "    elif mes in [4, 6, 9, 11]:\n",
    "        return 30\n",
    "    elif mes == 2:\n",
    "        if esAnioBisiesto(anio):\n",
    "            return 29\n",
    "        else:\n",
    "            return 28\n",
    "    \n",
    "print(esDiaValido(2, 29,2023))\n",
    "print(esDiaValido(2, 29,2024))\n"
   ]
  },
  {
   "cell_type": "code",
   "execution_count": 11,
   "metadata": {},
   "outputs": [
    {
     "name": "stdout",
     "output_type": "stream",
     "text": [
      "['1/4/2023', '2/4/2023', '3/4/2023', '4/4/2023', '5/4/2023', '6/4/2023', '7/4/2023', '8/4/2023', '9/4/2023', '10/4/2023', '11/4/2023', '12/4/2023', '13/4/2023', '14/4/2023', '15/4/2023', '16/4/2023', '17/4/2023', '18/4/2023', '19/4/2023', '20/4/2023', '21/4/2023', '22/4/2023', '23/4/2023', '24/4/2023', '25/4/2023', '26/4/2023', '27/4/2023', '28/4/2023', '29/4/2023', '30/4/2023']\n",
      "numeros de clientes al azar:  [5896, 4752, 2066, 1645, 8923, 2715, 6627, 6188, 2334, 2674, 8391, 5915, 7952, 2067, 2011, 9793, 3446, 8589, 6609, 6442, 7114, 2825, 4341, 1937, 5311, 2741, 9190, 3217, 9814, 5136, 4514, 8137, 1999, 9118, 4445, 8574, 7794, 1007, 6432, 7504, 1930, 7719, 7601, 4731, 9463, 7222, 2900, 1896, 4332, 4333, 3763, 5341, 8289, 4483, 7287, 7888, 7120, 1686, 7042, 1144, 1670, 6417, 5626, 5272, 1710, 9081, 2964, 7867, 9573, 9291, 9659, 2381, 7176, 2916, 5620, 1862, 9475, 3276, 6764, 1717, 1068, 2497, 7008, 9747, 3042, 1852, 5342, 2335, 2947, 2124, 4769, 5543, 3242, 3840, 7181, 7144, 5728, 6322, 5932, 1680, 3498, 1443, 9472, 3778, 3205, 3338, 4734, 7215, 8300, 4025, 6996, 2463, 7520, 5686, 5348, 3341, 2863, 1971, 3889, 7365]\n"
     ]
    }
   ],
   "source": [
    "import random\n",
    "\n",
    "cantDatosAGenerar = 120\n",
    "mes = 4 \n",
    "anio = 2023\n",
    "diasEnElMes = cantidadDiasDelMes(mes, anio)\n",
    "\n",
    "def generarFecha(mes, anio):\n",
    "    diasEnElMes = cantidadDiasDelMes(mes, anio)\n",
    "    listaFechas = []\n",
    "    for dia in range(1, diasEnElMes+1):\n",
    "        fecha = str(dia)+\"/\"+str(mes)+\"/\"+str(anio)\n",
    "        listaFechas.append(fecha)\n",
    "    return listaFechas\n",
    "\n",
    "# Generar los números aleatorios\n",
    "datos = []\n",
    "for i in range(0, cantDatosAGenerar):\n",
    "    numeroCliente = random.randint(1000, 9999)\n",
    "    datos.append(numeroCliente)\n",
    "\n",
    "# Mostrar los datos generados\n",
    "print(generarFecha(mes, anio))\n",
    "print('numeros de clientes al azar: ', datos)\n"
   ]
  }
 ],
 "metadata": {
  "kernelspec": {
   "display_name": ".venv",
   "language": "python",
   "name": "python3"
  },
  "language_info": {
   "codemirror_mode": {
    "name": "ipython",
    "version": 3
   },
   "file_extension": ".py",
   "mimetype": "text/x-python",
   "name": "python",
   "nbconvert_exporter": "python",
   "pygments_lexer": "ipython3",
   "version": "3.9.6"
  }
 },
 "nbformat": 4,
 "nbformat_minor": 2
}
