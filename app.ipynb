{
 "cells": [
  {
   "cell_type": "code",
   "execution_count": 5,
   "metadata": {},
   "outputs": [
    {
     "name": "stdout",
     "output_type": "stream",
     "text": [
      "False\n",
      "True\n"
     ]
    }
   ],
   "source": [
    "def esAnioBisiesto(anio):\n",
    "    if anio % 4 == 0:\n",
    "        if anio % 100 == 0:\n",
    "            if anio % 400 == 0:\n",
    "                return True\n",
    "            else:\n",
    "                return False\n",
    "        else:\n",
    "            return True\n",
    "    else:\n",
    "        return False\n",
    "\n",
    "def esDiaValido(mes, dia, anio):\n",
    "    if mes in [1, 3, 5, 7, 8, 10, 12]:\n",
    "        if dia > 0 and dia <= 31:\n",
    "            return True\n",
    "    elif mes in [4, 6, 9, 11]:\n",
    "        if dia > 0 and dia <= 30:\n",
    "            return True\n",
    "    elif mes == 2:\n",
    "        if esAnioBisiesto(anio) and dia > 0 and dia <= 29:\n",
    "            return True\n",
    "        elif not esAnioBisiesto(anio) and dia > 0 and dia <= 28:\n",
    "            return True\n",
    "    return False\n",
    "\n",
    "    \n",
    "print(esDiaValido(2, 29,2023))\n",
    "print(esDiaValido(2, 29,2024))\n"
   ]
  }
 ],
 "metadata": {
  "kernelspec": {
   "display_name": ".venv",
   "language": "python",
   "name": "python3"
  },
  "language_info": {
   "codemirror_mode": {
    "name": "ipython",
    "version": 3
   },
   "file_extension": ".py",
   "mimetype": "text/x-python",
   "name": "python",
   "nbconvert_exporter": "python",
   "pygments_lexer": "ipython3",
   "version": "3.9.6"
  }
 },
 "nbformat": 4,
 "nbformat_minor": 2
}
