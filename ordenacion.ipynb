{
 "cells": [
  {
   "cell_type": "code",
   "execution_count": 2,
   "metadata": {},
   "outputs": [
    {
     "name": "stdout",
     "output_type": "stream",
     "text": [
      "[2, 3, 5, 6, 10]\n"
     ]
    }
   ],
   "source": [
    "''' Consiste en buscar el menor elemento de todo\n",
    "el arreglo e intercambiarlo con el de la primera\n",
    "posición. '''\n",
    "\n",
    "def metodoseleccion(lista):\n",
    "    largo = len(lista)\n",
    "    for i in range(largo - 1):\n",
    "        for j in range(i + 1, largo):\n",
    "            if lista[i] > lista[j]:\n",
    "                aux = lista[i]\n",
    "                lista[i] = lista[j]\n",
    "                lista[j] = aux\n",
    "\n",
    "lista = [5, 3, 6, 2, 10]\n",
    "#lista = [], lista = [1]\n",
    "metodoseleccion(lista)\n",
    "print(lista)"
   ]
  },
  {
   "cell_type": "code",
   "execution_count": 7,
   "metadata": {},
   "outputs": [
    {
     "name": "stdout",
     "output_type": "stream",
     "text": [
      "[1, 2, 3, 4, 5]\n"
     ]
    }
   ],
   "source": [
    "''' Se basa en comparar cada elemento con el que\n",
    "tiene a su derecha. Si es necesario, se los intercambia. Llevando el mayor al final\n",
    "'''\n",
    "def metodoburbuja(lista):\n",
    "    desordenado = True\n",
    "    while desordenado:\n",
    "        desordenado = False\n",
    "        for i in range(len(lista) - 1):\n",
    "            if lista[i] > lista[i + 1]:\n",
    "                aux = lista[i]\n",
    "                lista[i] = lista[i + 1]\n",
    "                lista[i + 1] = aux\n",
    "                desordenado = True\n",
    "\n",
    "lista = [3, 5, 2, 1, 4]\n",
    "#lista = [], lista = [1]\n",
    "metodoburbuja(lista)\n",
    "print(lista)\n"
   ]
  },
  {
   "cell_type": "code",
   "execution_count": 11,
   "metadata": {},
   "outputs": [
    {
     "name": "stdout",
     "output_type": "stream",
     "text": [
      "[1, 2, 3, 4, 5]\n"
     ]
    }
   ],
   "source": [
    "''' Comienza a ordenar a partir del segundo elemento\n",
    "de la lista. Consiste en mover cada elemento del arreglo hacia\n",
    "la izquierda, haciéndolo retroceder hasta encontrar\n",
    "su ubicación definitiva.\n",
    "'''\n",
    "def insercion(lista):\n",
    "    for i in range(1, len(lista)):\n",
    "        aux = lista[i]\n",
    "        j = i - 1\n",
    "        while j >= 0 and aux < lista[j]:\n",
    "            lista[j + 1] = lista[j]\n",
    "            j -= 1\n",
    "        lista[j + 1] = aux\n",
    "\n",
    "lista = [3, 5, 2, 1, 4]\n",
    "#lista = [], lista = [1]\n",
    "insercion(lista)\n",
    "print(lista)\n"
   ]
  },
  {
   "cell_type": "code",
   "execution_count": 12,
   "metadata": {},
   "outputs": [
    {
     "name": "stdout",
     "output_type": "stream",
     "text": [
      "2\n",
      "-1\n"
     ]
    }
   ],
   "source": [
    "''' Es un algoritmo de búsqueda que encuentra la\n",
    "posición de un valor en un arreglo/lista ordenado.​ Esto le permite completar el proceso en mucho \n",
    "menos tiempo de lo que tomaría hacerlo con búsqueda secuencial.'''\n",
    "def busquedaBinaria(lista, valor):\n",
    "    izq = 0\n",
    "    der = len(lista) - 1\n",
    "    pos = -1\n",
    "    while izq <= der and pos == -1:\n",
    "        centro = (izq+der) // 2\n",
    "        if lista[centro] == valor:\n",
    "            pos  = centro\n",
    "        elif lista[centro] < valor:\n",
    "            izq = centro + 1\n",
    "        else:\n",
    "            der = centro - 1\n",
    "    return pos\n",
    "\n",
    "lista = [1, 2, 3, 4, 5]\n",
    "print(busquedaBinaria(lista, 3))\n",
    "print(busquedaBinaria(lista, 6))\n"
   ]
  }
 ],
 "metadata": {
  "kernelspec": {
   "display_name": ".venv",
   "language": "python",
   "name": "python3"
  },
  "language_info": {
   "codemirror_mode": {
    "name": "ipython",
    "version": 3
   },
   "file_extension": ".py",
   "mimetype": "text/x-python",
   "name": "python",
   "nbconvert_exporter": "python",
   "pygments_lexer": "ipython3",
   "version": "3.11.7"
  }
 },
 "nbformat": 4,
 "nbformat_minor": 2
}
